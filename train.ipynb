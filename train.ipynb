{
 "cells": [
  {
   "cell_type": "code",
   "execution_count": null,
   "metadata": {},
   "outputs": [],
   "source": [
    "config_path = './config/test.json'"
   ]
  },
  {
   "cell_type": "code",
   "execution_count": null,
   "metadata": {
    "execution": {
     "iopub.execute_input": "2024-03-24T11:02:30.546988Z",
     "iopub.status.busy": "2024-03-24T11:02:30.546730Z",
     "iopub.status.idle": "2024-03-24T11:04:12.062739Z",
     "shell.execute_reply": "2024-03-24T11:04:12.061431Z",
     "shell.execute_reply.started": "2024-03-24T11:02:30.546962Z"
    }
   },
   "outputs": [],
   "source": [
    "# 依存関係のインストール\n",
    "!pip -r requirements.txt\n",
    "\n",
    "# CUDAの確認\n",
    "import torch\n",
    "cuda_available = torch.cuda.is_available()\n",
    "print(f\"CUDA is {'available' if cuda_available else 'not available'}\")\n",
    "\n",
    "if not cuda_available:\n",
    "    use_zluda = input(\"CUDAが利用できません。WindowsでAMD GPUを使用していますか？ (y/n) \")\n",
    "    if use_zluda.lower() == 'y':\n",
    "        print(\"ZLUDAのインストールを続行します\")\n",
    "        %run scripts/install_zluda.py\n",
    "    else:\n",
    "        print(\"エラー：インストール中に問題が発生しました\")\n",
    "else:\n",
    "    print(\"インストールが完了しました\")\n",
    "\n",
    "# 注意：この環境では%pipを使用していますが、\n",
    "# 通常のコマンドラインでは!pipを使用することに注意してください"
   ]
  },
  {
   "cell_type": "code",
   "execution_count": null,
   "metadata": {
    "execution": {
     "iopub.execute_input": "2024-03-24T11:10:36.477241Z",
     "iopub.status.busy": "2024-03-24T11:10:36.476649Z",
     "iopub.status.idle": "2024-03-24T11:10:42.359595Z",
     "shell.execute_reply": "2024-03-24T11:10:42.359022Z",
     "shell.execute_reply.started": "2024-03-24T11:10:36.477212Z"
    }
   },
   "outputs": [],
   "source": [
    "# 必要なライブラリのインポート\n",
    "import os\n",
    "\n",
    "# mgdsをリポジトリにcloneした場合\n",
    "# import sys\n",
    "# sys.path.append('mgds/src')\n",
    "\n",
    "import json\n",
    "from modules.util.config.TrainConfig import TrainConfig\n",
    "from modules.util.callbacks.TrainCallbacks import TrainCallbacks\n",
    "from modules.util.commands.TrainCommands import TrainCommands\n",
    "from modules.trainer.GenericTrainer import GenericTrainer"
   ]
  },
  {
   "cell_type": "code",
   "execution_count": null,
   "metadata": {
    "execution": {
     "iopub.execute_input": "2024-03-24T11:27:13.229538Z",
     "iopub.status.busy": "2024-03-24T11:27:13.229338Z"
    }
   },
   "outputs": [],
   "source": [
    "# TrainConfigのインスタンスを作成\n",
    "train_config = TrainConfig.default_values()\n",
    "with open(config_path, \"r\") as f:\n",
    "    train_config.from_dict(json.load(f))\n",
    "\n",
    "# userwarningを表示しない\n",
    "import warnings\n",
    "warnings.filterwarnings('ignore')\n",
    "\n",
    "# TrainConfigで読み込んだ\"debug_dir\",\"workspace_dir\",cache_dir\"が存在しなければ作成\n",
    "for dir_path in [train_config.debug_dir, train_config.workspace_dir, train_config.cache_dir]:\n",
    "    if not os.path.exists(dir_path):\n",
    "        os.makedirs(dir_path)\n",
    "\n",
    "# コールバックとコマンドの設定\n",
    "callbacks = TrainCallbacks()\n",
    "commands = TrainCommands()\n",
    "\n",
    "# トレーニングプロセスの開始\n",
    "print(\"Destination_path: \", train_config.output_model_destination)\n",
    "print(\"Workspace_path: \", train_config.workspace_dir)\n",
    "print(\"Debug_path: \", train_config.debug_dir)\n",
    "print(\"Cache_path: \", train_config.cache_dir)\n",
    "\n",
    "trainer = GenericTrainer(train_config, callbacks, commands)\n",
    "trainer.start()\n",
    "\n",
    "try:\n",
    "    # トレーニングの実行\n",
    "    trainer.train()\n",
    "except Exception as e:\n",
    "    print(f\"トレーニング中にエラーが発生しました: {e}\")\n",
    "finally:\n",
    "    # トレーニング終了時の処理\n",
    "    trainer.end()\n",
    "    print(\"トレーニングが終了しました\")"
   ]
  }
 ],
 "metadata": {
  "kernelspec": {
   "display_name": "Python 3 (ipykernel)",
   "language": "python",
   "name": "python3"
  },
  "language_info": {
   "codemirror_mode": {
    "name": "ipython",
    "version": 3
   },
   "file_extension": ".py",
   "mimetype": "text/x-python",
   "name": "python",
   "nbconvert_exporter": "python",
   "pygments_lexer": "ipython3",
   "version": "3.10.13"
  }
 },
 "nbformat": 4,
 "nbformat_minor": 4
}
