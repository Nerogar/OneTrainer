{
 "cells": [
  {
   "cell_type": "code",
   "execution_count": null,
   "metadata": {},
   "outputs": [],
   "source": [
    "config_path = './config/test.json'"
   ]
  },
  {
   "cell_type": "code",
   "execution_count": null,
   "metadata": {
    "execution": {
     "iopub.execute_input": "2024-03-24T11:02:30.546988Z",
     "iopub.status.busy": "2024-03-24T11:02:30.546730Z",
     "iopub.status.idle": "2024-03-24T11:04:12.062739Z",
     "shell.execute_reply": "2024-03-24T11:04:12.061431Z",
     "shell.execute_reply.started": "2024-03-24T11:02:30.546962Z"
    }
   },
   "outputs": [],
   "source": [
    "# Install dependencies\n",
    "!pip -r requirements.txt\n",
    "\n",
    "# Check CUDA availability\n",
    "import torch\n",
    "cuda_available = torch.cuda.is_available()\n",
    "print(f\"CUDA is {'available' if cuda_available else 'not available'}\")\n",
    "\n",
    "if not cuda_available:\n",
    "    use_zluda = input(\"CUDA is not available. Are you using an AMD GPU on Windows? (y/n) \")\n",
    "    if use_zluda.lower() == 'y':\n",
    "        print(\"Proceeding with ZLUDA installation\")\n",
    "        %run scripts/install_zluda.py\n",
    "    else:\n",
    "        print(\"Error: An issue occurred during installation\")\n",
    "else:\n",
    "    print(\"Installation completed\")\n",
    "\n",
    "# Note: This environment uses %pip,\n",
    "# but remember to use !pip in regular command line"
   ]
  },
  {
   "cell_type": "code",
   "execution_count": null,
   "metadata": {
    "execution": {
     "iopub.execute_input": "2024-03-24T11:10:36.477241Z",
     "iopub.status.busy": "2024-03-24T11:10:36.476649Z",
     "iopub.status.idle": "2024-03-24T11:10:42.359595Z",
     "shell.execute_reply": "2024-03-24T11:10:42.359022Z",
     "shell.execute_reply.started": "2024-03-24T11:10:36.477212Z"
    }
   },
   "outputs": [],
   "source": [
    "# Import necessary libraries\n",
    "import os\n",
    "\n",
    "# If mgds is cloned to the repository\n",
    "# import sys\n",
    "# sys.path.append('mgds/src')\n",
    "\n",
    "import json\n",
    "from modules.util.config.TrainConfig import TrainConfig\n",
    "from modules.util.callbacks.TrainCallbacks import TrainCallbacks\n",
    "from modules.util.commands.TrainCommands import TrainCommands\n",
    "from modules.trainer.GenericTrainer import GenericTrainer"
   ]
  },
  {
   "cell_type": "code",
   "execution_count": null,
   "metadata": {
    "execution": {
     "iopub.execute_input": "2024-03-24T11:27:13.229538Z",
     "iopub.status.busy": "2024-03-24T11:27:13.229338Z"
    }
   },
   "outputs": [],
   "source": [
    "# Create an instance of TrainConfig\n",
    "train_config = TrainConfig.default_values()\n",
    "with open(config_path, \"r\") as f:\n",
    "    train_config.from_dict(json.load(f))\n",
    "\n",
    "# Suppress user warnings\n",
    "import warnings\n",
    "warnings.filterwarnings('ignore')\n",
    "\n",
    "# Create directories loaded in TrainConfig if they don't exist\n",
    "for dir_path in [train_config.debug_dir, train_config.workspace_dir, train_config.cache_dir]:\n",
    "    if not os.path.exists(dir_path):\n",
    "        os.makedirs(dir_path)\n",
    "\n",
    "# Set up callbacks and commands\n",
    "callbacks = TrainCallbacks()\n",
    "commands = TrainCommands()\n",
    "\n",
    "# Start the training process\n",
    "print(\"Destination_path: \", train_config.output_model_destination)\n",
    "print(\"Workspace_path: \", train_config.workspace_dir)\n",
    "print(\"Debug_path: \", train_config.debug_dir)\n",
    "print(\"Cache_path: \", train_config.cache_dir)\n",
    "\n",
    "trainer = GenericTrainer(train_config, callbacks, commands)\n",
    "trainer.start()\n",
    "\n",
    "try:\n",
    "    # Execute training\n",
    "    trainer.train()\n",
    "except Exception as e:\n",
    "    print(f\"An error occurred during training: {e}\")\n",
    "finally:\n",
    "    # Process at the end of training\n",
    "    trainer.end()\n",
    "    print(\"Training has completed\")"
   ]
  }
 ],
 "metadata": {
  "kernelspec": {
   "display_name": "Python 3 (ipykernel)",
   "language": "python",
   "name": "python3"
  },
  "language_info": {
   "codemirror_mode": {
    "name": "ipython",
    "version": 3
   },
   "file_extension": ".py",
   "mimetype": "text/x-python",
   "name": "python",
   "nbconvert_exporter": "python",
   "pygments_lexer": "ipython3",
   "version": "3.10.13"
  }
 },
 "nbformat": 4,
 "nbformat_minor": 4
}
